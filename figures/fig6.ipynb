{
 "cells": [
  {
   "cell_type": "markdown",
   "metadata": {},
   "source": [
    "## Figure 6: Fitting a 3-State GLM-HMM to Real Data"
   ]
  },
  {
   "cell_type": "markdown",
   "metadata": {},
   "source": [
    "This notebook recreates the figure panels included in Figure 6 of [Bolkan, Stone et al 2021](https://www.biorxiv.org/content/10.1101/2021.07.23.453573v1). It also serves as a useful tutorial notebook for users who might want to fit GLM-HMMs to their own experimental data. For a more generic example of how GLM-HMMs can be applied to simulated data, check out the <code>fit-glm-hmm.ipynb</code> notebook in the <code>examples</code> folder.\n",
    "\n",
    "The general premise of this notebook/figure, in the context of the paper, is that we have determined that a 3-state GLM-HMM performs better at describing our data than a standard GLM (see <code>fig5.ipynb</code> for more details). Below, we fit this 3-state GLM-HMM to our experimental datasets, explore some of the fitted model parameters in order to interpret the results, and provide further verification that this model descibes our data well. "
   ]
  },
  {
   "cell_type": "markdown",
   "metadata": {},
   "source": [
    "------------------\n",
    "#### Description of the Data\n",
    "\n",
    "The real data that we will use in this case comes from the experiments described in [Bolkan, Stone et al 2021](https://www.biorxiv.org/content/10.1101/2021.07.23.453573v1). This is behavioral data from mice performing a two alternative forced choice (2AFC) task in which the animals run down a virtual maze while multi-sensory \"cues\" appear to their left and right. The mice must \"accumulate evidence\" as these cues appear and ultimately make a decision to turn left or right based on which side of the maze had more cues.\n",
    "\n",
    "The dataset in the paper includes three cohorts of mice: a group that was inhibited in the direct pathway of the striatum, a group that was inhibited in the indirect pathway, and a control (no opsin) group. Below we fit a GLM and GLM-HMM to the two inhibition groups, but you can modify the code below to fit the models to the control group as well.\n",
    "\n",
    "The provided design matrices (loaded below) includes values for the following external covariates (in this order): \n",
    "<ul>\n",
    "    <li><b>bias:</b> the offset or intercept term</li>\n",
    "    <li><b>delta cues:</b> the standardized difference in the number of cues that appear on the right (R) and left (L) sides of the maze (coded as R-L)</li>\n",
    "    <li><b>laser:</b> the on/off status of the laser on each trial, indicating whether striatal inhibition occured</li>\n",
    "    <li><b>previous choices 1-6:</b> the choice that the animal made on the previous trial (and up to six trials ago)</li>\n",
    "    <li><b>previous rewarded choice</b> the choice that the animal made on the previous trial and whether or not that choice was rewarded</li>\n",
    "     \n",
    "</ul>\n",
    "See the methods section of the paper for more information on how we coded these covariates. \n",
    "\n",
    "The <code>data</code> folder also includes date information for each cohort, indicating whether each trial was conducted on an odd numbered date (denoted by a $-1$), or an even numbered date (denoted by a $1$). This is pertinent because it tells us whether inhibition occured in the right hemisphere (even dates) or the left hemisphere (odd dates) for each trial."
   ]
  },
  {
   "cell_type": "markdown",
   "metadata": {},
   "source": [
    "------------------\n",
    "####  Import the required code packages and modules."
   ]
  },
  {
   "cell_type": "code",
   "execution_count": 1,
   "metadata": {},
   "outputs": [],
   "source": [
    "%load_ext autoreload\n",
    "%autoreload 2\n",
    "\n",
    "import sys\n",
    "sys.path.insert(0, '..')\n",
    "\n",
    "import matplotlib.pyplot as plt\n",
    "import numpy as np\n",
    "import scipy.io as sio\n",
    "from glmhmm import glm_hmm\n",
    "from glmhmm.utils import permute_states, find_best_fit, compare_top_weights\n",
    "from glmhmm.visualize import plot_model_params, plot_loglikelihoods, plot_weights"
   ]
  },
  {
   "cell_type": "markdown",
   "metadata": {},
   "source": [
    "#### Load the data"
   ]
  },
  {
   "cell_type": "code",
   "execution_count": 4,
   "metadata": {},
   "outputs": [],
   "source": [
    "# load the data for the indirect pathway cohort\n",
    "x_d2 = np.load('data/indirect_x.npy') # z-scored design matrix\n",
    "y_d2 = np.load('data/indirect_y.npy') # vector of right and left choices for each trial\n",
    "sessions_d2 = np.load('data/indirect_sessions.npy') # vector of session start and stop indices\n",
    "\n",
    "# load the data for the direct pathway cohort\n",
    "x_d1 = np.load('data/direct_x.npy') # z-scored design matrix\n",
    "y_d1 = np.load('data/direct_y.npy') # vector of right and left choices for each trial\n",
    "sessions_d1 = np.load('data/direct_sessions.npy') # vector of session start and stop indices"
   ]
  },
  {
   "cell_type": "markdown",
   "metadata": {},
   "source": [
    "#### Set the hyper-parameters of the GLM-HMM"
   ]
  },
  {
   "cell_type": "code",
   "execution_count": 5,
   "metadata": {},
   "outputs": [],
   "source": [
    "N_d2 = x_d2.shape[0] # number of data/time points for the indirect pathway cohort\n",
    "N_d1 = x_d1.shape[0]\n",
    "K = 3 # number of latent states\n",
    "C = 2 # number of observation classes\n",
    "D = x_d2.shape[1] # number of GLM inputs (regressors)"
   ]
  },
  {
   "cell_type": "markdown",
   "metadata": {},
   "source": [
    "#### Instantiate the models"
   ]
  },
  {
   "cell_type": "code",
   "execution_count": 6,
   "metadata": {},
   "outputs": [],
   "source": [
    "real_GLMHMM_d2 = glm_hmm.GLMHMM(N_d2,D,C,K,observations=\"bernoulli\",gaussianPrior=1)\n",
    "real_GLMHMM_d1 = glm_hmm.GLMHMM(N_d1,D,C,K,observations=\"bernoulli\",gaussianPrior=1)"
   ]
  },
  {
   "cell_type": "markdown",
   "metadata": {},
   "source": [
    "#### Fit the models\n",
    "\n",
    "In this case, we're going to initialize the weights by fitting a GLM to the data. Once we have the fitted GLM weights (you can think of this as a 1-state GLM-HMM), we'll duplicate those weights $K$ times and add a small amount noise to each set. These weights will then form our $w_{init}$ and serve as a smarter initialization that will help us find the best solution more quickly and more often than if we initialized the weights randomly.\n",
    "\n",
    "This case will also be different from the simulated example (see <code>fit-glm-hmm.ipynb</code>) in that now the structure of our data includes different sessions, consisting of different mice performing the task on different days. So that the fitted parameters aren't affected by this structure (i.e. the last trial on one day doesn't affect the first trial on the next day) we will fit separately to each session. Fortunately, this is easy to do -- we simply include a vector with the first and last indices of each session length as an extra input to the fitting code.\n",
    "\n",
    "<b>Note:</b> To illustrate the process of confirming we've found the global optimum (see step 4), the code below fits the model 20 times. This can take 1-2.5 hours to run, depending on your machine. For a quicker assessment, reduce the number of inits. "
   ]
  },
  {
   "cell_type": "code",
   "execution_count": 423,
   "metadata": {},
   "outputs": [],
   "source": [
    "inits = 20 # set the number of initializations\n",
    "maxiter = 250 # maximum number of iterations of EM to allow for each fit\n",
    "tol = 1e-3\n",
    "\n",
    "## indirect pathway cohort --------------------------------------------------------\n",
    "\n",
    "# store values for each initialization\n",
    "lls_all_d2 = np.zeros((inits,250))\n",
    "A_all_d2 = np.zeros((inits,K,K))\n",
    "w_all_d2 = np.zeros((inits,K,D,C))\n",
    "\n",
    "# fit the model for each initialization\n",
    "for i in range(inits):\n",
    "    t0 = time.time()\n",
    "    # initialize the weights\n",
    "    A_init,w_init,pi_init = real_GLMHMM_d2.generate_params(weights=['GLM',-0.2,1.2,x_d2,y_d2,1])\n",
    "    # fit the model                     \n",
    "    lls_all_d2[i,:],A_all_d2[i,:,:],w_all_d2[i,:,:],pi0 = real_GLMHMM_d2.fit(y_d2,x_d2,A_init,w_init,\n",
    "                                                                             maxiter=maxiter,tol=tol,sess=sessions_d2) \n",
    "    \n",
    "## direct pathway cohort ----------------------------------------------------------\n",
    "\n",
    "# store values for each initialization\n",
    "lls_all_d1 = np.zeros((inits,250))\n",
    "A_all_d1 = np.zeros((inits,K,K))\n",
    "w_all_d1 = np.zeros((inits,K,D,C))\n",
    "\n",
    "# fit the model for each initialization\n",
    "for i in range(inits):\n",
    "    t0 = time.time()\n",
    "    # initialize the weights\n",
    "    A_init,w_init,pi_init = real_GLMHMM_d1.generate_params(weights=['GLM',-0.2,1.2,x_d1,y_d1,1])\n",
    "    # fit the model                     \n",
    "    lls_all_d1[i,:],A_all_d1[i,:,:],w_all_d1[i,:,:],pi0 = real_GLMHMM_d1.fit(y_d1,x_d1,A_init,w_init,\n",
    "                                                                             maxiter=maxiter,tol=tol,sess=sessions_d1) "
   ]
  },
  {
   "cell_type": "markdown",
   "metadata": {},
   "source": [
    "#### Check to see that multiple fits achieve the same log-likelihood.\n",
    "\n",
    "Since we're now fitting real data, we can't simply compare our inferred parameters to the true ones to make sure we're recovering the right values. But we can get a reasonable assessment of whether or not we're finding the global optimum of the log-likelihood by comparing the log-likelihoods for each fit. If multiple log-likelihoods for the best fits converge to the same (or very similar) values, this is a good indication that we've found the global optimum.\n",
    "\n",
    "Let's check this for the indirect pathway cohort."
   ]
  },
  {
   "cell_type": "code",
   "execution_count": 419,
   "metadata": {},
   "outputs": [
    {
     "name": "stdout",
     "output_type": "stream",
     "text": [
      "Number of top matching lls within threshold:  4\n"
     ]
    },
    {
     "data": {
      "image/png": "[encoded data removed]",
      "text/plain": [
       "<Figure size 432x288 with 1 Axes>"
      ]
     },
     "metadata": {
      "needs_background": "light"
     },
     "output_type": "display_data"
    }
   ],
   "source": [
    "plt.figure(figsize=(6,4))\n",
    "topixs = plot_loglikelihoods(lls_all_d2,0.8,startix=5) # set the x-axis startix > 0 to see better view of final lls\n",
    "print('Number of top matching lls within threshold: ', len(topixs))"
   ]
  },
  {
   "cell_type": "markdown",
   "metadata": {},
   "source": [
    "#### We can also check that the weights for the best fits are the same, within some tolerance."
   ]
  },
  {
   "cell_type": "code",
   "execution_count": 420,
   "metadata": {},
   "outputs": [
    {
     "name": "stdout",
     "output_type": "stream",
     "text": [
      "None of the weights differ by more than the set tolerance. The largest difference was 0.03.\n",
      "This confirms that the top fits (as specified) all converged on the same solution.\n"
     ]
    }
   ],
   "source": [
    "# first, permute the weights according to the value of a particular regressor (here we pick cues) so that the states\n",
    "# will be the same for each fit \n",
    "w_permuted = np.zeros_like(w_all_d2[:,:,:,1])\n",
    "order = np.zeros((inits,K))\n",
    "for i in range(inits):\n",
    "    w_permuted[i],order[i] = permute_states(w_all_d2[i,:,:,1],method='weight value',param='weights',ix=1)\n",
    "\n",
    "np.set_printoptions(precision=2,suppress=True)\n",
    "# now let's check if the weights for the top fits match up\n",
    "compare_top_weights(w_permuted,topixs,tol=0.5)"
   ]
  },
  {
   "cell_type": "markdown",
   "metadata": {},
   "source": [
    "#### 7. Now let's look at the inferred parameters (as shown in our paper, [Bolkan, Stone et al 2021](https://www.biorxiv.org/content/10.1101/2021.07.23.453573v1)). "
   ]
  },
  {
   "cell_type": "markdown",
   "metadata": {},
   "source": [
    "In the plot of the weights below, we include error bars on each of the weights. We computed the variance for this purpose by taking the inverse Hessian of the optimized log-likelihood. This is a process that relies on autograd and is somewhat slow, so if you're running this notebook yourself and looking for a quick visualization, we recommend skipping that step (and changing the inputs in the <code>plot_weights</code> function to <code>error=None</code>). "
   ]
  },
  {
   "cell_type": "code",
   "execution_count": null,
   "metadata": {},
   "outputs": [],
   "source": [
    "variance = real_GLMHMM.computeVariance(x,y,A_permuted,w_permuted[bestix,:,:,np.newaxis],gaussPrior=1)\n",
    "\n",
    "bestix = find_best_fit(lls_all) # find the initialization that led to the best fit\n",
    "A_permuted, _ = permute_states(A_all[bestix],method='order',order=order[bestix].astype(int))\n",
    "\n",
    "# plot the inferred transition probabilities\n",
    "fig, ax = plt.subplots(1,1)\n",
    "plot_model_params(A_permuted,ax,precision='%.3f')\n",
    "\n",
    "# plot the inferred weights probabilities\n",
    "fig, ax = plt.subplots(1,1)\n",
    "colors = np.array([[39,110,167],[237,177,32],[233,0,111],[176,100,245]])/255\n",
    "xlabels = ['$\\Delta$ cues', 'laser', 'bias', '1', '2', '3', '4', '5', '6', 'prev rew \\n choice']\n",
    "legend = ['state 1', 'state 2', 'state 3']\n",
    "plot_weights(w_permuted[bestix],ax,xlabels=xlabels,switch=True,style='.-',color=colors,error=None,label=legend)\n",
    "ax.text(0.43,-0.25,'prev choice',transform=ax.transAxes)\n",
    "ax.legend()"
   ]
  },
  {
   "cell_type": "markdown",
   "metadata": {},
   "source": [
    "To plot separate psychometric curves for the \"laser on\" and \"laser off\" trials using a \"contra - ipsi\" y-axis, we'll need to convert the choices on inhibition trials for one hemisphere. Because the hemisphere of inhibition is determined by the date of the behavior session (even or odd dates), we'll also need to load that information.\n",
    "In order to have the right x-axis, we'll also want the actual delta cues (not standardized). To get these values, we simply need to multiply the standardized delta cues by the standard deviation of the original values, which happens to be 6.5."
   ]
  },
  {
   "cell_type": "markdown",
   "metadata": {},
   "source": [
    "Now we have everything we need to plot the psychometric curves. <b>Note:</b> To run this locally, you'll need to have a copy of MATLAB 2019b as well as the MATLAB Engine API for Python installed on your computer (see more info [here](https://www.mathworks.com/help/matlab/matlab_external/install-the-matlab-engine-for-python.html))."
   ]
  },
  {
   "cell_type": "markdown",
   "metadata": {},
   "source": [
    "We can see from these plots that the psychometrics for the real and simulated data match much more closely than they did for the standard GLM (see <code>fig4.ipynb</code>). Thus, we can feel confident that the results we get from the GLM-HMM provide an accurate description of our experimental datasets."
   ]
  }
 ],
 "metadata": {
  "kernelspec": {
   "display_name": "Python 3",
   "language": "python",
   "name": "python3"
  },
  "language_info": {
   "codemirror_mode": {
    "name": "ipython",
    "version": 3
   },
   "file_extension": ".py",
   "mimetype": "text/x-python",
   "name": "python",
   "nbconvert_exporter": "python",
   "pygments_lexer": "ipython3",
   "version": "3.7.8"
  }
 },
 "nbformat": 4,
 "nbformat_minor": 4
}
