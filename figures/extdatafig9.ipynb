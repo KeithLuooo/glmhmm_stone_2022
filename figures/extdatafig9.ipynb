{
 "cells": [
  {
   "cell_type": "markdown",
   "metadata": {},
   "source": [
    "## Ext. Data Figure 9: Model Simulations Recapitulate Characteristics of Real Data"
   ]
  },
  {
   "cell_type": "markdown",
   "metadata": {},
   "source": [
    "This notebook recreates the figure panels included in Figure Extended Data Figure 9 of [Bolkan, Stone et al 2021](https://www.biorxiv.org/content/10.1101/2021.07.23.453573v1). \n",
    "\n",
    "The general premise of this notebook/figure, in the context of the paper, is to show that fitting the model to simulated datasets produces similar results, in terms of the transition probabilities and state characteristics, of the real data. This serves as a sanity check to ensure that the model can indeed capture fundamental properties of the real data in its simulations. "
   ]
  },
  {
   "cell_type": "markdown",
   "metadata": {},
   "source": [
    "### Simulate data\n",
    "#### Import the required code packages and modules"
   ]
  },
  {
   "cell_type": "code",
   "execution_count": 4,
   "metadata": {},
   "outputs": [
    {
     "name": "stdout",
     "output_type": "stream",
     "text": [
      "The autoreload extension is already loaded. To reload it, use:\n",
      "  %reload_ext autoreload\n"
     ]
    }
   ],
   "source": [
    "%load_ext autoreload\n",
    "%autoreload 2\n",
    "\n",
    "import sys\n",
    "sys.path.insert(0, '..')\n",
    "\n",
    "import matplotlib.pyplot as plt\n",
    "import numpy as np\n",
    "import scipy.io as sio\n",
    "import pickle\n",
    "from glmhmm import glm, glm_hmm"
   ]
  },
  {
   "cell_type": "markdown",
   "metadata": {},
   "source": [
    "#### Load the model objects from fitting the GLM-HMM to the real data"
   ]
  },
  {
   "cell_type": "code",
   "execution_count": 5,
   "metadata": {},
   "outputs": [],
   "source": [
    "GLMHMM_d2 = pickle.load(open('fit models/GLMHMM_d2.pickle','rb'))\n",
    "GLMHMM_d1 = pickle.load(open('fit models/GLMHMM_d1.pickle','rb'))"
   ]
  },
  {
   "cell_type": "markdown",
   "metadata": {},
   "source": [
    "#### Load the real data"
   ]
  },
  {
   "cell_type": "code",
   "execution_count": 6,
   "metadata": {},
   "outputs": [],
   "source": [
    "# load the data for the indirect pathway cohort\n",
    "x_d2 = np.load('data/indirect_x.npy') # z-scored design matrix\n",
    "y_d2 = np.load('data/indirect_y.npy') # vector of right and left choices for each trial\n",
    "sessions_d2 = np.load('data/indirect_sessions.npy') # vector of session start and stop indices\n",
    "mouseIDs_d2 = np.load('data/indirect_mouseIDs.npy') # vector of mouse IDs for each trial\n",
    "trialTypes_d2 = np.load('data/indirect_trialTypes.npy') # vector of trial types (which side rewarded) for each trial\n",
    "\n",
    "# load the data for the direct pathway cohort\n",
    "x_d1 = np.load('data/direct_x.npy') # z-scored design matrix\n",
    "y_d1 = np.load('data/direct_y.npy') # vector of right and left choices for each trial\n",
    "sessions_d1 = np.load('data/direct_sessions.npy') # vector of session start and stop indices\n",
    "mouseIDs_d1 = np.load('data/direct_mouseIDs.npy') # vector of mouse IDs for each trial\n",
    "trialTypes_d1 = np.load('data/direct_trialTypes.npy') # vector of trial types (which side rewarded) for each trial"
   ]
  },
  {
   "cell_type": "markdown",
   "metadata": {},
   "source": [
    "#### Simulate five datasets"
   ]
  },
  {
   "cell_type": "code",
   "execution_count": 7,
   "metadata": {},
   "outputs": [],
   "source": [
    "num_sims = 5\n",
    "simulated_x_d2 = np.zeros((num_sims,x_d2.shape[0],x_d2.shape[1]))\n",
    "simulated_y_d2 = np.zeros((num_sims,y_d2.shape[0]))\n",
    "simulated_x_d1 = np.zeros((num_sims,x_d1.shape[0],x_d1.shape[1]))\n",
    "simulated_y_d1 = np.zeros((num_sims,y_d1.shape[0]))\n",
    "for i in range(num_sims):\n",
    "    ## indirect pathway cohort --------------------------------------------------------\n",
    "    simulated_x_d2[i], simulated_y_d2[i], _ = GLMHMM_d2.generate_data_from_fit(GLMHMM_d2.w,GLMHMM_d2.A,x_d2,\n",
    "                                                                             obs_ix=[3,9,10],replace=True,\n",
    "                                                                             sessions=sessions_d2,\n",
    "                                                                             outcomes=trialTypes_d2)\n",
    "    ## direct pathway cohort --------------------------------------------------------\n",
    "    simulated_x_d1[i], simulated_y_d1[i], _ = GLMHMM_d1.generate_data_from_fit(GLMHMM_d1.w,GLMHMM_d1.A,x_d1,\n",
    "                                                                             obs_ix=[3,9,10],replace=True,\n",
    "                                                                             sessions=sessions_d1,\n",
    "                                                                             outcomes=trialTypes_d1)"
   ]
  },
  {
   "cell_type": "markdown",
   "metadata": {},
   "source": [
    "### Fit GLM-HMMs to the simulated data\n",
    "#### Set the hyperparameters"
   ]
  },
  {
   "cell_type": "code",
   "execution_count": 9,
   "metadata": {},
   "outputs": [],
   "source": [
    "N_d2 = x_d2.shape[0] # number of data/time points for the indirect pathway cohort\n",
    "N_d1 = x_d1.shape[0]\n",
    "K = 3 # number of latent states\n",
    "C = 2 # number of observation classes\n",
    "D = x_d2.shape[1] # number of GLM inputs (regressors)"
   ]
  },
  {
   "cell_type": "markdown",
   "metadata": {},
   "source": [
    "This will take about 20 hours to run in this notebook (5 simulated datasets x 2 cohorts x 2 hours per fit). Best to parallelize this and run each cohort and fit separately if you don't want to wait so long!"
   ]
  },
  {
   "cell_type": "code",
   "execution_count": null,
   "metadata": {},
   "outputs": [],
   "source": [
    "inits = 20 # set the number of initializations\n",
    "maxiter = 250 # maximum number of iterations of EM to allow for each fit\n",
    "tol = 1e-3\n",
    "\n",
    "# store model objects for each simulated dataset\n",
    "best_GLMHMMs_d2 = np.zeros((num_sims), dtype=object)\n",
    "best_GLMHMMs_d1 = np.zeros((num_sims), dtype=object)\n",
    "\n",
    "for j in range(num_sims):\n",
    "\n",
    "    # store values for each initialization\n",
    "    lls_all_d2 = np.zeros((inits,250))\n",
    "    GLMHMMs_d2 = np.zeros((inits),dtype=object)\n",
    "    lls_all_d1 = np.zeros((inits,250))\n",
    "    GLMHMMs_d1 = np.zeros((inits),dtype=object)\n",
    "\n",
    "    # fit the model for each initialization\n",
    "    for i in range(inits):\n",
    "        ## indirect pathway cohort --------------------------------------------------------\n",
    "        GLMHMMs_d2[i] = glm_hmm.GLMHMM(N_d2,D,C,K,observations=\"bernoulli\",gaussianPrior=1)\n",
    "        A_init,w_init,_ = GLMHMMs_d2[i].generate_params(weights=['GLM',-0.2,1.2,x_d2,y_d2,1])\n",
    "        lls_all_d2[i,:],_,_,_ = GLMHMMs_d2[i].fit(y_d2,x_d2,A_init,w_init,maxiter=maxiter,tol=tol,sess=sessions_d2)\n",
    "\n",
    "        ## direct pathway cohort ----------------------------------------------------------\n",
    "        GLMHMMs_d1[i] = glm_hmm.GLMHMM(N_d1,D,C,K,observations=\"bernoulli\",gaussianPrior=1)\n",
    "        A_init,w_init,_ = GLMHMMs_d1[i].generate_params(weights=['GLM',-0.2,1.2,x_d1,y_d1,1])\n",
    "        lls_all_d1[i,:],_,_,_ = GLMHMMs_d1[i].fit(y_d1,x_d1,A_init,w_init,maxiter=maxiter,tol=tol,sess=sessions_d1)\n",
    "\n",
    "    # find the initialization that led to the best fit\n",
    "    bestix_d2 = find_best_fit(lls_all_d2)\n",
    "    best_GLMHMMs_d2[j] = GLMHMMs_d2[bestix_d2]\n",
    "    bestix_d1 = find_best_fit(lls_all_d1)\n",
    "    best_GLMHMMs_d1[j] = real_GLMHMMs_d1[bestix_d1]    \n",
    "    \n",
    "# save results in case we want to load them again later\n",
    "pickle.dump(best_GLMHMMs_d2, open('fit models/simulated_GLMHMMs_d2.pickle', 'wb'))\n",
    "pickle.dump(best_GLMHMMs_d1, open('fit models/simulated_GLMHMMs_d1.pickle', 'wb'))"
   ]
  },
  {
   "cell_type": "markdown",
   "metadata": {},
   "source": [
    "### Ext. Data Figure 9A/B: Compare the Transition Probabilities"
   ]
  },
  {
   "cell_type": "code",
   "execution_count": null,
   "metadata": {},
   "outputs": [],
   "source": []
  }
 ],
 "metadata": {
  "kernelspec": {
   "display_name": "Python 3",
   "language": "python",
   "name": "python3"
  },
  "language_info": {
   "codemirror_mode": {
    "name": "ipython",
    "version": 3
   },
   "file_extension": ".py",
   "mimetype": "text/x-python",
   "name": "python",
   "nbconvert_exporter": "python",
   "pygments_lexer": "ipython3",
   "version": "3.7.8"
  }
 },
 "nbformat": 4,
 "nbformat_minor": 4
}
