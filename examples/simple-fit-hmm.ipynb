{
 "cells": [
  {
   "cell_type": "code",
   "execution_count": 1,
   "metadata": {},
   "outputs": [],
   "source": [
    "import sys\n",
    "sys.path.append(\"/Users/irisstone/Google Drive (istone@princeton.edu)/Princeton/Research/Striatum Towers Task/code/glmhmm\")\n",
    "import matplotlib.pyplot as plt\n",
    "import numpy as np\n",
    "from glmhmm import hmm\n",
    "from glmhmm.utils import permute_states, find_best_fit\n",
    "from glmhmm.visualize import plot_transitions"
   ]
  },
  {
   "cell_type": "code",
   "execution_count": 2,
   "metadata": {},
   "outputs": [],
   "source": [
    "# set the parameters of the GLM\n",
    "N = 10000 # number of data/time points\n",
    "K = 2 # number of latent states\n",
    "C = 2 # number of observation classes"
   ]
  },
  {
   "cell_type": "code",
   "execution_count": 3,
   "metadata": {},
   "outputs": [],
   "source": [
    "# make a HMM with these parameters and set distribution type\n",
    "true_HMM = hmm.HMM(N,0,C,K)\n",
    "A_true,phi_true,pi_true = true_HMM.generate_params()\n",
    "true_y,true_z = true_HMM.generate_data(A_true,phi_true)\n",
    "#true_ll = true_GLM.neglogli(true_x,true_w,true_y) * -1"
   ]
  },
  {
   "cell_type": "code",
   "execution_count": 4,
   "metadata": {},
   "outputs": [
    {
     "name": "stdout",
     "output_type": "stream",
     "text": [
      "initialization 1 complete\n"
     ]
    }
   ],
   "source": [
    "# fit model\n",
    "inits = 1\n",
    "lls_all = np.zeros((inits,250))\n",
    "A_all = np.zeros((inits,K,K))\n",
    "phi_all = np.zeros((inits,K,C))\n",
    "for i in range(inits):\n",
    "    A_init,phi_init,pi_init = true_HMM.generate_params()\n",
    "    lls_all[i,:],A_all[i,:,:],phi_all[i,:,:],pi0 = true_HMM.fit(true_y,A_init,phi_init)\n",
    "    print('initialization %s complete' %(i+1))\n",
    "# fit_ll = true_GLM.ll\n",
    "# fit_ll = true_GLM.neglogli(true_x,w,true_y) * -1"
   ]
  },
  {
   "cell_type": "code",
   "execution_count": 5,
   "metadata": {},
   "outputs": [
    {
     "data": {
      "text/plain": [
       "Text(0, 0.5, 'loglikelihood')"
      ]
     },
     "execution_count": 5,
     "metadata": {},
     "output_type": "execute_result"
    },
    {
     "data": {
      "image/png": "[encoded data removed]",
      "text/plain": [
       "<Figure size 432x288 with 1 Axes>"
      ]
     },
     "metadata": {
      "needs_background": "light"
     },
     "output_type": "display_data"
    }
   ],
   "source": [
    "plt.plot(lls_all.T[50:])\n",
    "plt.xlabel('iterations of EM')\n",
    "plt.ylabel('loglikelihood')"
   ]
  },
  {
   "cell_type": "code",
   "execution_count": 6,
   "metadata": {},
   "outputs": [],
   "source": [
    "bestix = find_best_fit(lls_all)\n",
    "A_permuted, order = permute_states(A_all[bestix])\n",
    "A_true_permuted, order = permute_states(A_true)"
   ]
  },
  {
   "cell_type": "code",
   "execution_count": 7,
   "metadata": {},
   "outputs": [
    {
     "data": {
      "image/png": "[encoded data removed]",
      "text/plain": [
       "<Figure size 432x288 with 1 Axes>"
      ]
     },
     "metadata": {},
     "output_type": "display_data"
    },
    {
     "data": {
      "image/png": "[encoded data removed]",
      "text/plain": [
       "<Figure size 432x288 with 1 Axes>"
      ]
     },
     "metadata": {},
     "output_type": "display_data"
    }
   ],
   "source": [
    "fig = plot_transitions(A_true_permuted)\n",
    "fig = plot_transitions(A_permuted)"
   ]
  },
  {
   "cell_type": "code",
   "execution_count": 8,
   "metadata": {},
   "outputs": [
    {
     "name": "stdout",
     "output_type": "stream",
     "text": [
      "True LL: -6285.613221\n",
      "Fit LL: -6333.860387\n"
     ]
    }
   ],
   "source": [
    "true_ll,_,_ = true_HMM.forwardPass(true_y,A_true,phi_true,pi0=None)\n",
    "fit_ll,_,_ = true_HMM.forwardPass(true_y,A_all[bestix],phi_all[bestix])\n",
    "\n",
    "# compare loglikelihoods\n",
    "print('True LL: %f' %(true_ll))\n",
    "print('Fit LL: %f' %(fit_ll))"
   ]
  },
  {
   "cell_type": "markdown",
   "metadata": {},
   "source": [
    "If the data is difficult to fit, we can also try a method called direct annealing EM, or DAEM (for more information, see [Ueda and Nakano 1998](https://www.sciencedirect.com/science/article/pii/S0893608097001330)). In short, this applies a temperature parameter $B$ to our posterior, starting at a low value ($B<1$), which tends to produce faster convergence of the log-likelihood than traditional EM. The estimates of the fitted parameters then become initial parameter values (presumably closer to the correct parameter values than random initializations) for a second round of EM, with $B$ increased. This process continues iteratively, with $B$ increasing in each round of EM by a pre-specified step size, until $B=1$. "
   ]
  },
  {
   "cell_type": "code",
   "execution_count": null,
   "metadata": {},
   "outputs": [],
   "source": [
    "# fit model\n",
    "inits = 1\n",
    "lls_all = np.zeros((inits,250))\n",
    "A_all = np.zeros((inits,K,K))\n",
    "phi_all = np.zeros((inits,K,C))\n",
    "for i in range(inits):\n",
    "    A_init,phi_init,pi_init = true_HMM.generate_params()\n",
    "    lls_all[i,:],A_all[i,:,:],phi_all[i,:,:],pi0 = true_HMM.fit(true_y,A_init,phi_init,B=0.5)\n",
    "    print('initialization %s complete' %(i+1))"
   ]
  }
 ],
 "metadata": {
  "kernelspec": {
   "display_name": "Python 3",
   "language": "python",
   "name": "python3"
  },
  "language_info": {
   "codemirror_mode": {
    "name": "ipython",
    "version": 3
   },
   "file_extension": ".py",
   "mimetype": "text/x-python",
   "name": "python",
   "nbconvert_exporter": "python",
   "pygments_lexer": "ipython3",
   "version": "3.7.3"
  }
 },
 "nbformat": 4,
 "nbformat_minor": 4
}
