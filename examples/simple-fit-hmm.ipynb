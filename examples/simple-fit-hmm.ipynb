{
 "cells": [
  {
   "cell_type": "markdown",
   "metadata": {},
   "source": [
    "### Simple Example for Fitting a Hidden Markov Model (HMM) "
   ]
  },
  {
   "cell_type": "markdown",
   "metadata": {},
   "source": [
    "This notebook is designed to help users get started using the glm-hmm package to fit HMMs to their data. Here we use simulated data so that we can check that we are inferring the correct model parameters, but the same fitting procedure applies when using real experimental data. All the same general ideas (code structure and parameter validation) also apply when fitting GLM-HMMs. For more details on that model, see the fit-glm-hmm.ipynb notebook. "
   ]
  },
  {
   "cell_type": "markdown",
   "metadata": {},
   "source": [
    "#### 1. Import the required code packages and modules."
   ]
  },
  {
   "cell_type": "code",
   "execution_count": 1,
   "metadata": {},
   "outputs": [],
   "source": [
    "import sys\n",
    "sys.path.append(\"/Users/irisstone/Google Drive (istone@princeton.edu)/Princeton/Research/Striatum Towers Task/code/glmhmm\")\n",
    "import matplotlib.pyplot as plt\n",
    "import numpy as np\n",
    "import time\n",
    "from glmhmm import hmm\n",
    "from glmhmm.utils import permute_states, find_best_fit\n",
    "from glmhmm.visualize import plot_model_params"
   ]
  },
  {
   "cell_type": "markdown",
   "metadata": {},
   "source": [
    "#### 2. Set the hyper-parameters of the HMM"
   ]
  },
  {
   "cell_type": "code",
   "execution_count": 2,
   "metadata": {},
   "outputs": [],
   "source": [
    "N = 10000 # number of data/time points\n",
    "K = 2 # number of latent states\n",
    "C = 2 # number of observation classes"
   ]
  },
  {
   "cell_type": "markdown",
   "metadata": {},
   "source": [
    "#### 3. Instantiate the model and generate true parameters"
   ]
  },
  {
   "cell_type": "markdown",
   "metadata": {},
   "source": [
    "The parameters of an HMM include the transition probabilities $A$, the observation (or emission) probabilities $\\phi$, and the initial state probabilities $\\pi$."
   ]
  },
  {
   "cell_type": "code",
   "execution_count": 3,
   "metadata": {},
   "outputs": [],
   "source": [
    "true_HMM = hmm.HMM(N,0,C,K)\n",
    "A_true,phi_true,pi_true = true_HMM.generate_params()"
   ]
  },
  {
   "cell_type": "markdown",
   "metadata": {},
   "source": [
    "#### 4. Given the true parameters, generate some data. "
   ]
  },
  {
   "cell_type": "markdown",
   "metadata": {},
   "source": [
    "The data include the observations $y$ and the latent states $z$ at each time point. "
   ]
  },
  {
   "cell_type": "code",
   "execution_count": 4,
   "metadata": {},
   "outputs": [],
   "source": [
    "true_y,true_z = true_HMM.generate_data(A_true,phi_true)"
   ]
  },
  {
   "cell_type": "markdown",
   "metadata": {},
   "source": [
    "#### 5. Fit the model"
   ]
  },
  {
   "cell_type": "markdown",
   "metadata": {},
   "source": [
    "The fitting code uses the expectation maximization (EM) algorithm to infer the model parameters. Because EM does not guarantee that it will find the best fit (global optimum) and inference is often dependent on the choice of parameter initialization, it is often best to fit the model multiple times using different initializations and then select the best one based on which fit obtained the highest log-likelihood. <b>Note:</b> For this example, we are not inferring the initial state probabilities, but instead assuming a uniform distribution over the initial states."
   ]
  },
  {
   "cell_type": "code",
   "execution_count": 5,
   "metadata": {},
   "outputs": [
    {
     "name": "stdout",
     "output_type": "stream",
     "text": [
      "initialization 1 complete\n",
      "initialization 2 complete\n"
     ]
    }
   ],
   "source": [
    "inits = 2 # set the number of initializations\n",
    "\n",
    "# store values for each initialization\n",
    "lls_all = np.zeros((inits,250))\n",
    "A_all = np.zeros((inits,K,K))\n",
    "phi_all = np.zeros((inits,K,C))\n",
    "\n",
    "# fit the model for each initialization\n",
    "for i in range(inits):\n",
    "    A_init,phi_init,pi_init = true_HMM.generate_params() # initialize the model parameters\n",
    "    lls_all[i,:],A_all[i,:,:],phi_all[i,:,:],pi0 = true_HMM.fit(true_y,A_init,phi_init) # fit the model\n",
    "    print('initialization %s complete' %(i+1))"
   ]
  },
  {
   "cell_type": "markdown",
   "metadata": {},
   "source": [
    "#### 6. Compare the inferred model parameters for the best fit to the true parameter values."
   ]
  },
  {
   "cell_type": "code",
   "execution_count": 9,
   "metadata": {},
   "outputs": [
    {
     "data": {
      "text/plain": [
       "Text(0.5, 1.0, 'Inferred $\\\\phi$')"
      ]
     },
     "execution_count": 9,
     "metadata": {},
     "output_type": "execute_result"
    },
    {
     "data": {
      "image/png": "[encoded data removed]",
      "text/plain": [
       "<Figure size 432x288 with 2 Axes>"
      ]
     },
     "metadata": {},
     "output_type": "display_data"
    },
    {
     "data": {
      "image/png": "[encoded data removed]",
      "text/plain": [
       "<Figure size 432x288 with 2 Axes>"
      ]
     },
     "metadata": {},
     "output_type": "display_data"
    }
   ],
   "source": [
    "bestix = find_best_fit(lls_all) # find the initialization that led to the best fit\n",
    "\n",
    "# for easy comparison permute the states in order from highest to lowest self-transition probability\n",
    "A_permuted, order = permute_states(A_all[bestix])\n",
    "A_true_permuted, order_true = permute_states(A_true)\n",
    "\n",
    "# plot the true vs. inferred transition probabilities\n",
    "fig, ax = plt.subplots(1,2,sharey=True)\n",
    "    \n",
    "plot_model_params(A_true_permuted,ax[0])\n",
    "plot_model_params(A_permuted, ax[1])\n",
    "\n",
    "ax[0].set_title('True $A$')\n",
    "ax[1].set_title('Inferred $A$')\n",
    "\n",
    "# permute the observation probability matrices according to the above order\n",
    "phi_permuted,_ = permute_states(phi_all[bestix],method='order',param='observations',order=order)\n",
    "phi_true_permuted,_ = permute_states(phi_true,method='order',param='observations',order=order_true)\n",
    "\n",
    "# plot the true vs. inferred observation probabilities\n",
    "fig, ax = plt.subplots(1,2,sharey=True)\n",
    "    \n",
    "plot_model_params(phi_true_permuted,ax[0])\n",
    "plot_model_params(phi_permuted, ax[1])\n",
    "\n",
    "ax[0].set_title('True $\\phi$')\n",
    "ax[1].set_title('Inferred $\\phi$')"
   ]
  },
  {
   "cell_type": "markdown",
   "metadata": {},
   "source": [
    "#### 7. Cross validation can further assess model performance."
   ]
  },
  {
   "cell_type": "code",
   "execution_count": 20,
   "metadata": {},
   "outputs": [
    {
     "name": "stdout",
     "output_type": "stream",
     "text": [
      "True LL: -6906.931493\n",
      "Inferred LL: -6906.292260\n"
     ]
    }
   ],
   "source": [
    "\n",
    "true_ll,_,_ = true_HMM.forwardPass(true_y,A_true,phi_true,pi0=None)\n",
    "fit_ll,_,_ = true_HMM.forwardPass(true_y,A_all[bestix],phi_all[bestix])\n",
    "\n",
    "# compare loglikelihoods\n",
    "print('True LL: %f' %(true_ll))\n",
    "print('Inferred LL: %f' %(fit_ll))"
   ]
  },
  {
   "cell_type": "code",
   "execution_count": 19,
   "metadata": {},
   "outputs": [
    {
     "data": {
      "text/plain": [
       "Text(0, 0.5, 'loglikelihood')"
      ]
     },
     "execution_count": 19,
     "metadata": {},
     "output_type": "execute_result"
    },
    {
     "data": {
      "image/png": "[encoded data removed]",
      "text/plain": [
       "<Figure size 432x288 with 1 Axes>"
      ]
     },
     "metadata": {
      "needs_background": "light"
     },
     "output_type": "display_data"
    }
   ],
   "source": [
    "plt.plot(lls_all.T[10:],color='red')\n",
    "plt.plot(np.ones(240)*true_ll,color='black')\n",
    "plt.xlabel('iterations of EM')\n",
    "plt.ylabel('loglikelihood')"
   ]
  },
  {
   "cell_type": "code",
   "execution_count": null,
   "metadata": {},
   "outputs": [],
   "source": []
  }
 ],
 "metadata": {
  "kernelspec": {
   "display_name": "Python 3",
   "language": "python",
   "name": "python3"
  },
  "language_info": {
   "codemirror_mode": {
    "name": "ipython",
    "version": 3
   },
   "file_extension": ".py",
   "mimetype": "text/x-python",
   "name": "python",
   "nbconvert_exporter": "python",
   "pygments_lexer": "ipython3",
   "version": "3.7.3"
  }
 },
 "nbformat": 4,
 "nbformat_minor": 4
}
