{
 "cells": [
  {
   "cell_type": "code",
   "execution_count": 2,
   "metadata": {},
   "outputs": [],
   "source": [
    "import sys\n",
    "sys.path.append(\"/Users/irisstone/Google Drive (istone@princeton.edu)/Princeton/Research/Striatum Towers Task/code/glmhmm\")\n",
    "import matplotlib.pyplot as plt\n",
    "from glmhmm import glm\n",
    "import time"
   ]
  },
  {
   "cell_type": "code",
   "execution_count": 3,
   "metadata": {},
   "outputs": [],
   "source": [
    "# set the parameters of the GLM\n",
    "N = 1000000 # number of data/time points\n",
    "M = 6 # number of input features\n",
    "C = 3 # number of observation classes"
   ]
  },
  {
   "cell_type": "code",
   "execution_count": 4,
   "metadata": {},
   "outputs": [],
   "source": [
    "# make a GLM with these parameters and set distribution type\n",
    "true_GLM = glm.GLM(N,M,C,observations=\"multinomial\")\n",
    "true_x,true_w,true_y = true_GLM.generate_data()\n",
    "true_ll = true_GLM.neglogli(true_x,true_w,true_y) * -1"
   ]
  },
  {
   "cell_type": "code",
   "execution_count": 5,
   "metadata": {},
   "outputs": [
    {
     "name": "stdout",
     "output_type": "stream",
     "text": [
      "5.311612844467163\n"
     ]
    }
   ],
   "source": [
    "# fit model\n",
    "w_init = true_GLM.init_weights()\n",
    "t0 = time.time()\n",
    "w, phi = true_GLM.fit(true_x,w_init,true_y)\n",
    "print(time.time()-t0)\n",
    "fit_ll = true_GLM.ll\n",
    "fit_ll = true_GLM.neglogli(true_x,w,true_y) * -1"
   ]
  },
  {
   "cell_type": "code",
   "execution_count": 5,
   "metadata": {},
   "outputs": [
    {
     "data": {
      "image/png": "[encoded data removed]",
      "text/plain": [
       "<Figure size 432x288 with 1 Axes>"
      ]
     },
     "metadata": {
      "needs_background": "light"
     },
     "output_type": "display_data"
    },
    {
     "data": {
      "image/png": "[encoded data removed]",
      "text/plain": [
       "<Figure size 432x288 with 1 Axes>"
      ]
     },
     "metadata": {
      "needs_background": "light"
     },
     "output_type": "display_data"
    }
   ],
   "source": [
    "# plot weights\n",
    "for i in range(1,C):\n",
    "    plt.figure()\n",
    "    plt.plot(true_w[:,i])\n",
    "    plt.plot(w[:,i])\n",
    "    plt.xlabel('input')\n",
    "    plt.ylabel('weight value')"
   ]
  },
  {
   "cell_type": "code",
   "execution_count": 6,
   "metadata": {},
   "outputs": [
    {
     "name": "stdout",
     "output_type": "stream",
     "text": [
      "True LL: -311302.472106\n",
      "Fit LL: -311297.410510\n"
     ]
    }
   ],
   "source": [
    "# compare loglikelihoods\n",
    "print('True LL: %f' %(true_ll))\n",
    "print('Fit LL: %f' %(fit_ll))"
   ]
  },
  {
   "cell_type": "code",
   "execution_count": 7,
   "metadata": {},
   "outputs": [
    {
     "data": {
      "text/plain": [
       "array([[ 0.  , -0.62, -0.66],\n",
       "       [ 0.  ,  0.02, -0.37],\n",
       "       [ 0.  , -0.  ,  0.02],\n",
       "       [ 0.  , -0.11,  0.34],\n",
       "       [ 0.  , -0.28,  0.28],\n",
       "       [ 0.  ,  0.83,  0.06]])"
      ]
     },
     "execution_count": 7,
     "metadata": {},
     "output_type": "execute_result"
    }
   ],
   "source": [
    "import numpy as np\n",
    "np.round(w,2)"
   ]
  },
  {
   "cell_type": "code",
   "execution_count": 8,
   "metadata": {},
   "outputs": [
    {
     "data": {
      "text/plain": [
       "array([[ 0.  , -0.62, -0.66],\n",
       "       [ 0.  ,  0.02, -0.38],\n",
       "       [ 0.  , -0.  ,  0.02],\n",
       "       [ 0.  , -0.11,  0.34],\n",
       "       [ 0.  , -0.28,  0.28],\n",
       "       [ 0.  ,  0.83,  0.06]])"
      ]
     },
     "execution_count": 8,
     "metadata": {},
     "output_type": "execute_result"
    }
   ],
   "source": [
    "np.round(true_w,2)"
   ]
  },
  {
   "cell_type": "code",
   "execution_count": 9,
   "metadata": {},
   "outputs": [
    {
     "data": {
      "text/plain": [
       "-311376.44045027177"
      ]
     },
     "execution_count": 9,
     "metadata": {},
     "output_type": "execute_result"
    }
   ],
   "source": [
    "true_GLM.neglogli(true_x,np.round(true_w,2),true_y) * -1"
   ]
  },
  {
   "cell_type": "code",
   "execution_count": 10,
   "metadata": {},
   "outputs": [
    {
     "data": {
      "text/plain": [
       "-311360.37484278885"
      ]
     },
     "execution_count": 10,
     "metadata": {},
     "output_type": "execute_result"
    }
   ],
   "source": [
    "true_GLM.neglogli(true_x,np.round(w,2),true_y) * -1"
   ]
  },
  {
   "cell_type": "code",
   "execution_count": null,
   "metadata": {},
   "outputs": [],
   "source": []
  }
 ],
 "metadata": {
  "kernelspec": {
   "display_name": "Python 3",
   "language": "python",
   "name": "python3"
  },
  "language_info": {
   "codemirror_mode": {
    "name": "ipython",
    "version": 3
   },
   "file_extension": ".py",
   "mimetype": "text/x-python",
   "name": "python",
   "nbconvert_exporter": "python",
   "pygments_lexer": "ipython3",
   "version": "3.7.10"
  }
 },
 "nbformat": 4,
 "nbformat_minor": 4
}
