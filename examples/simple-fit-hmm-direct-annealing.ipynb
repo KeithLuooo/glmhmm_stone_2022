{
 "cells": [
  {
   "cell_type": "code",
   "execution_count": 1,
   "metadata": {},
   "outputs": [],
   "source": [
    "import sys\n",
    "sys.path.append(\"/Users/irisstone/Google Drive (istone@princeton.edu)/Princeton/Research/Striatum Towers Task/code/glmhmm\")\n",
    "import matplotlib.pyplot as plt\n",
    "import numpy as np\n",
    "import time\n",
    "from glmhmm import hmm\n",
    "from glmhmm.utils import permute_states, find_best_fit\n",
    "from glmhmm.visualize import plot_transitions"
   ]
  },
  {
   "cell_type": "markdown",
   "metadata": {},
   "source": [
    "If the data is difficult to fit, we can also try a method called direct annealing EM, or DAEM (for more information, see [Ueda and Nakano 1998](https://www.sciencedirect.com/science/article/pii/S0893608097001330)). In short, this applies a temperature parameter $B$ to our posterior, starting at a low value ($B<1$), which tends to produce faster convergence of the log-likelihood than traditional EM. The estimates of the fitted parameters then become initial parameter values (presumably closer to the correct parameter values than random initializations) for a second round of EM, with $B$ increased. This process continues iteratively, with $B$ increasing in each round of EM by a pre-specified step size, until $B=1$. With this method, we get more consistent estimates of the log-likelihood that match the global optimum and that are less sensitive to initialization."
   ]
  },
  {
   "cell_type": "code",
   "execution_count": 2,
   "metadata": {},
   "outputs": [],
   "source": [
    "# set the parameters of the model\n",
    "N = 10000 # number of data/time points\n",
    "K = 4 # number of latent states\n",
    "C = 2 # number of observation classes"
   ]
  },
  {
   "cell_type": "code",
   "execution_count": 3,
   "metadata": {},
   "outputs": [],
   "source": [
    "# make an HMM with these parameters\n",
    "true_HMM = hmm.HMM(N,0,C,K)\n",
    "A_true,phi_true,pi_true = true_HMM.generate_params()\n",
    "true_y,true_z = true_HMM.generate_data(A_true,phi_true)"
   ]
  },
  {
   "cell_type": "markdown",
   "metadata": {},
   "source": [
    "#### First let's fit using traditional EM"
   ]
  },
  {
   "cell_type": "code",
   "execution_count": 4,
   "metadata": {},
   "outputs": [
    {
     "name": "stdout",
     "output_type": "stream",
     "text": [
      "initialization 1 complete\n",
      "initialization 2 complete\n",
      "initialization 3 complete\n",
      "initialization 4 complete\n",
      "initialization 5 complete\n"
     ]
    }
   ],
   "source": [
    "# fit model\n",
    "inits = 5\n",
    "\n",
    "# store the parameter values from each initialization\n",
    "lls_EM = np.zeros((inits,250))\n",
    "A_EM = np.zeros((inits,K,K))\n",
    "phi_EM = np.zeros((inits,K,C))\n",
    "\n",
    "# we'll save the initializations too, so we can use the same ones when comparing to DAEM\n",
    "A_inits = np.zeros((inits,K,K))\n",
    "phi_inits = np.zeros((inits,K,C))\n",
    "\n",
    "for i in range(inits):\n",
    "    A_init,phi_init,_ = true_HMM.generate_params()\n",
    "    A_inits[i,:,:] = A_init\n",
    "    phi_inits[i,:,:] = phi_init\n",
    "    lls_EM[i,:],A_EM[i,:,:],phi_EM[i,:,:],pi0 = true_HMM.fit(true_y,A_init,phi_init)\n",
    "    print('initialization %s complete' %(i+1))"
   ]
  },
  {
   "cell_type": "code",
   "execution_count": 14,
   "metadata": {},
   "outputs": [],
   "source": [
    "# fit model for range of temperature parameters\n",
    "Bs = [0.5,0.8,1.0]\n",
    "\n",
    "inits = 5\n",
    "\n",
    "# store the parameter values from each initialization\n",
    "lls_DAEM = np.zeros((inits,250))\n",
    "A_DAEM = np.zeros((inits,K,K))\n",
    "phi_DAEM = np.zeros((inits,K,C))\n",
    "\n",
    "for i in range(inits):\n",
    "    A_init, phi_init = A_inits[i,:,:],phi_inits[i,:,:]\n",
    "    for B in Bs:\n",
    "    #     A_test, _ = permute_states(A_init)\n",
    "    #     fig = plot_transitions(A_test)\n",
    "        lls_DAEM[i,:],A_DAEM[i,:,:],phi_DAEM[i,:,:],pi0 = true_HMM.fit(true_y,A_init,phi_init,B=B) # fit with given temperature parameter 'B'\n",
    "        A_init,phi_init = A_DAEM[i,:,:], phi_DAEM[i,:,:] # set fitted values as initial values\n",
    "        print('initialization %s complete' %(i+1))"
   ]
  },
  {
   "cell_type": "code",
   "execution_count": 22,
   "metadata": {},
   "outputs": [
    {
     "data": {
      "text/plain": [
       "Text(0, 0.5, 'loglikelihood')"
      ]
     },
     "execution_count": 22,
     "metadata": {},
     "output_type": "execute_result"
    },
    {
     "data": {
      "image/png": "[encoded data removed]",
      "text/plain": [
       "<Figure size 432x288 with 1 Axes>"
      ]
     },
     "metadata": {
      "needs_background": "light"
     },
     "output_type": "display_data"
    }
   ],
   "source": [
    "true_ll,_,_ = true_HMM.forwardPass(true_y,A_true,phi_true,pi0=None)\n",
    "\n",
    "plt.plot(lls_EM.T[15:], color='red')\n",
    "plt.plot(lls_DAEM.T[15:], color='blue')\n",
    "plt.plot(np.ones(235)*true_ll,color='black',linewidth=5)\n",
    "plt.xlabel('iterations of EM')\n",
    "plt.ylabel('loglikelihood')"
   ]
  },
  {
   "cell_type": "code",
   "execution_count": 16,
   "metadata": {},
   "outputs": [
    {
     "name": "stderr",
     "output_type": "stream",
     "text": [
      "/opt/anaconda3/envs/glmhmm/lib/python3.7/site-packages/numpy/lib/histograms.py:824: RuntimeWarning: invalid value encountered in greater_equal\n",
      "  keep = (tmp_a >= first_edge)\n",
      "/opt/anaconda3/envs/glmhmm/lib/python3.7/site-packages/numpy/lib/histograms.py:825: RuntimeWarning: invalid value encountered in less_equal\n",
      "  keep &= (tmp_a <= last_edge)\n"
     ]
    },
    {
     "data": {
      "text/plain": [
       "<matplotlib.legend.Legend at 0x12d9c3278>"
      ]
     },
     "execution_count": 16,
     "metadata": {},
     "output_type": "execute_result"
    },
    {
     "data": {
      "image/png": "[encoded data removed]",
      "text/plain": [
       "<Figure size 432x288 with 1 Axes>"
      ]
     },
     "metadata": {
      "needs_background": "light"
     },
     "output_type": "display_data"
    }
   ],
   "source": [
    "plt.hist(lls_EM[:,-1],color='red',label='EM')\n",
    "plt.hist(lls_DAEM[:,-1],color='blue',label='DAEM')\n",
    "plt.vlines(true_ll, 0, 2, color='black',label='true LL')\n",
    "plt.legend()"
   ]
  },
  {
   "cell_type": "code",
   "execution_count": null,
   "metadata": {},
   "outputs": [],
   "source": []
  }
 ],
 "metadata": {
  "kernelspec": {
   "display_name": "Python 3",
   "language": "python",
   "name": "python3"
  },
  "language_info": {
   "codemirror_mode": {
    "name": "ipython",
    "version": 3
   },
   "file_extension": ".py",
   "mimetype": "text/x-python",
   "name": "python",
   "nbconvert_exporter": "python",
   "pygments_lexer": "ipython3",
   "version": "3.7.3"
  }
 },
 "nbformat": 4,
 "nbformat_minor": 4
}
